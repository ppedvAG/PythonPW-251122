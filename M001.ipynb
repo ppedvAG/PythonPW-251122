{
 "cells": [
  {
   "cell_type": "markdown",
   "id": "3ae7888a-0b0c-4a07-9fdc-4fea2a8366aa",
   "metadata": {},
   "source": [
    "## IPython\n",
    "\n",
    "Zellenbasiertes Design\n",
    "- Mehrere Zellen pro Notebook\n",
    "- Eine Zelle kann (Python-)Code oder Markdown beinhalten\n",
    "- Nachfolgende Zellen können auf vorherige Zellen zugreifen\n",
    "- Zellen können separat zueinander ausgeführt werden"
   ]
  },
  {
   "cell_type": "code",
   "execution_count": 1,
   "id": "e67bd930-1ad7-4eb5-a343-70ba4c8efbd2",
   "metadata": {},
   "outputs": [],
   "source": [
    "x = 5"
   ]
  },
  {
   "cell_type": "code",
   "execution_count": 3,
   "id": "9d7c0981-265b-40a7-a29b-5d2c90b75162",
   "metadata": {},
   "outputs": [
    {
     "data": {
      "text/plain": [
       "25"
      ]
     },
     "execution_count": 3,
     "metadata": {},
     "output_type": "execute_result"
    }
   ],
   "source": [
    "x ** 2"
   ]
  },
  {
   "cell_type": "markdown",
   "id": "c6bc5eaa-0fa9-4891-89bc-7d4270de3eb8",
   "metadata": {},
   "source": [
    "In Jupyter Notebooks können Daten dargestellt"
   ]
  },
  {
   "cell_type": "code",
   "execution_count": 5,
   "id": "de90eccc-cbe0-41ab-a963-cb193c44ede0",
   "metadata": {},
   "outputs": [],
   "source": [
    "import pandas"
   ]
  },
  {
   "cell_type": "code",
   "execution_count": 6,
   "id": "285a9568-8fe8-4606-b1c2-97426220f18d",
   "metadata": {},
   "outputs": [
    {
     "data": {
      "text/html": [
       "<div>\n",
       "<style scoped>\n",
       "    .dataframe tbody tr th:only-of-type {\n",
       "        vertical-align: middle;\n",
       "    }\n",
       "\n",
       "    .dataframe tbody tr th {\n",
       "        vertical-align: top;\n",
       "    }\n",
       "\n",
       "    .dataframe thead th {\n",
       "        text-align: right;\n",
       "    }\n",
       "</style>\n",
       "<table border=\"1\" class=\"dataframe\">\n",
       "  <thead>\n",
       "    <tr style=\"text-align: right;\">\n",
       "      <th></th>\n",
       "      <th>Spalte 1</th>\n",
       "      <th>Spalte 2</th>\n",
       "      <th>Spalte 3</th>\n",
       "    </tr>\n",
       "  </thead>\n",
       "  <tbody>\n",
       "    <tr>\n",
       "      <th>0</th>\n",
       "      <td>1</td>\n",
       "      <td>4</td>\n",
       "      <td>7</td>\n",
       "    </tr>\n",
       "    <tr>\n",
       "      <th>1</th>\n",
       "      <td>2</td>\n",
       "      <td>5</td>\n",
       "      <td>8</td>\n",
       "    </tr>\n",
       "    <tr>\n",
       "      <th>2</th>\n",
       "      <td>3</td>\n",
       "      <td>6</td>\n",
       "      <td>9</td>\n",
       "    </tr>\n",
       "  </tbody>\n",
       "</table>\n",
       "</div>"
      ],
      "text/plain": [
       "   Spalte 1  Spalte 2  Spalte 3\n",
       "0         1         4         7\n",
       "1         2         5         8\n",
       "2         3         6         9"
      ]
     },
     "execution_count": 6,
     "metadata": {},
     "output_type": "execute_result"
    }
   ],
   "source": [
    "pandas.DataFrame({\"Spalte 1\": [1, 2, 3], \"Spalte 2\": [4, 5, 6], \"Spalte 3\": [7, 8, 9]})"
   ]
  },
  {
   "cell_type": "code",
   "execution_count": 7,
   "id": "fde84395-189b-4b1b-8b92-cabeb3a0c744",
   "metadata": {},
   "outputs": [],
   "source": [
    "import matplotlib.pyplot"
   ]
  },
  {
   "cell_type": "code",
   "execution_count": 8,
   "id": "685a46df-c8b2-4704-a559-a098daf6c6cb",
   "metadata": {},
   "outputs": [
    {
     "data": {
      "text/plain": [
       "[<matplotlib.lines.Line2D at 0x2cfc16e1a90>]"
      ]
     },
     "execution_count": 8,
     "metadata": {},
     "output_type": "execute_result"
    },
    {
     "data": {
      "image/png": "[encoded data removed]",
      "text/plain": [
       "<Figure size 640x480 with 1 Axes>"
      ]
     },
     "metadata": {},
     "output_type": "display_data"
    }
   ],
   "source": [
    "matplotlib.pyplot.plot([4.2, 6.3, 1.9, 8.3, 5.5])"
   ]
  },
  {
   "cell_type": "markdown",
   "id": "1a5239d8-d1b3-4c3b-9e39-1808629ec4c6",
   "metadata": {},
   "source": [
    "### Shortcuts\n",
    "- Shift/Strg + Enter: Führt die Zelle aus\n",
    "- Escape: Zelle verlassen ohne Ausführung\n",
    "- Enter: Zelle betreten\n",
    "- A, B: Neue Zelle erstellen (darüber/darunter)\n",
    "- D + D: Zelle löschen\n",
    "- X, C, V: Ausschneiden, Kopieren, Einfügen\n",
    "- M, Y: Zw. Markdown und Code umschalten\n",
    "- Strg + Shift + Hoch/Hinunter: Zelle verschieben"
   ]
  }
 ],
 "metadata": {
  "kernelspec": {
   "display_name": "Python 3 (ipykernel)",
   "language": "python",
   "name": "python3"
  },
  "language_info": {
   "codemirror_mode": {
    "name": "ipython",
    "version": 3
   },
   "file_extension": ".py",
   "mimetype": "text/x-python",
   "name": "python",
   "nbconvert_exporter": "python",
   "pygments_lexer": "ipython3",
   "version": "3.13.1"
  }
 },
 "nbformat": 4,
 "nbformat_minor": 5
}
