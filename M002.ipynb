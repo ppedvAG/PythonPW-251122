{
 "cells": [
  {
   "cell_type": "markdown",
   "id": "17652157-d5d6-430e-ad68-32b24851c51d",
   "metadata": {},
   "source": [
    "## Numpy\n",
    "\n",
    "= Number Python\n",
    "\n",
    "Verarbeitung von Zahlen\n",
    "\n",
    "Essentiell für große Datenmengen"
   ]
  },
  {
   "cell_type": "code",
   "execution_count": 1,
   "id": "61a6c853-140d-4b9d-9f8a-f69827021e25",
   "metadata": {},
   "outputs": [],
   "source": [
    "import numpy as np"
   ]
  },
  {
   "cell_type": "markdown",
   "id": "b62f0221-41d3-4b40-8abd-dbc5a5cfd6e3",
   "metadata": {},
   "source": [
    "### Array"
   ]
  },
  {
   "cell_type": "code",
   "execution_count": 2,
   "id": "09b38253-e92c-4636-b269-5e62ce1132bc",
   "metadata": {},
   "outputs": [],
   "source": [
    "a = np.array([1, 2, 3, 4])"
   ]
  },
  {
   "cell_type": "code",
   "execution_count": 6,
   "id": "e455beea-bdee-4613-88b6-38134553206c",
   "metadata": {},
   "outputs": [
    {
     "data": {
      "text/plain": [
       "array([1, 2, 3, 4])"
      ]
     },
     "execution_count": 6,
     "metadata": {},
     "output_type": "execute_result"
    }
   ],
   "source": [
    "a  # kein print notwendig"
   ]
  },
  {
   "cell_type": "markdown",
   "id": "c3baa807-b741-4960-80fd-37eb224a5f98",
   "metadata": {},
   "source": [
    "### Datentypen\n",
    "\n",
    "Ganze Zahlen:\n",
    "- int64 = 2^64\n",
    "- int32 = 2^32\n",
    "- int16 = 2^16\n",
    "- int8 = 2^8\n",
    "\n",
    "Kommazahlen:\n",
    "- float64\n",
    "- float32\n",
    "- float16"
   ]
  },
  {
   "cell_type": "code",
   "execution_count": 7,
   "id": "c3e0ed39-1d41-47a2-8c69-807fbe659d51",
   "metadata": {},
   "outputs": [],
   "source": [
    "b = np.array([1, 2, 3, 4], dtype=np.int8)"
   ]
  },
  {
   "cell_type": "code",
   "execution_count": 8,
   "id": "14b1a6ca-7698-48d0-8763-93d762fe9337",
   "metadata": {},
   "outputs": [
    {
     "data": {
      "text/plain": [
       "array([1, 2, 3, 4], dtype=int8)"
      ]
     },
     "execution_count": 8,
     "metadata": {},
     "output_type": "execute_result"
    }
   ],
   "source": [
    "b"
   ]
  },
  {
   "cell_type": "markdown",
   "id": "a975583f-f7e4-44fd-87d9-db6c0a0f44ef",
   "metadata": {},
   "source": [
    "### Index"
   ]
  },
  {
   "cell_type": "code",
   "execution_count": 16,
   "id": "fbc99718-797f-44b8-bed1-820b938fa993",
   "metadata": {},
   "outputs": [
    {
     "data": {
      "text/plain": [
       "np.int64(2)"
      ]
     },
     "execution_count": 16,
     "metadata": {},
     "output_type": "execute_result"
    }
   ],
   "source": [
    "a[1]"
   ]
  },
  {
   "cell_type": "code",
   "execution_count": 17,
   "id": "8fcc0c6c-cce6-4aca-8e7a-742cfceb3d3c",
   "metadata": {},
   "outputs": [
    {
     "data": {
      "text/plain": [
       "np.int64(4)"
      ]
     },
     "execution_count": 17,
     "metadata": {},
     "output_type": "execute_result"
    }
   ],
   "source": [
    "a[-1]"
   ]
  },
  {
   "cell_type": "code",
   "execution_count": 18,
   "id": "56bfe4ce-6ce0-455f-83a9-2a0a1b1267e5",
   "metadata": {},
   "outputs": [
    {
     "data": {
      "text/plain": [
       "array([2, 3])"
      ]
     },
     "execution_count": 18,
     "metadata": {},
     "output_type": "execute_result"
    }
   ],
   "source": [
    "a[1:3]"
   ]
  },
  {
   "cell_type": "markdown",
   "id": "3be8946e-cce1-4c2f-ba19-149cc90ebb60",
   "metadata": {},
   "source": [
    "### Eigenschaften"
   ]
  },
  {
   "cell_type": "code",
   "execution_count": 19,
   "id": "18d9cce3-75f1-4b47-906d-bdd9799e576c",
   "metadata": {},
   "outputs": [
    {
     "data": {
      "text/plain": [
       "4"
      ]
     },
     "execution_count": 19,
     "metadata": {},
     "output_type": "execute_result"
    }
   ],
   "source": [
    "len(a)"
   ]
  },
  {
   "cell_type": "code",
   "execution_count": 20,
   "id": "214fcd1b-562c-47e1-8fc6-cbd1825f239e",
   "metadata": {},
   "outputs": [
    {
     "data": {
      "text/plain": [
       "4"
      ]
     },
     "execution_count": 20,
     "metadata": {},
     "output_type": "execute_result"
    }
   ],
   "source": [
    "a.size"
   ]
  },
  {
   "cell_type": "code",
   "execution_count": 21,
   "id": "800b6e6c-6a96-4a50-92e5-5670b13f30bd",
   "metadata": {},
   "outputs": [
    {
     "data": {
      "text/plain": [
       "(4,)"
      ]
     },
     "execution_count": 21,
     "metadata": {},
     "output_type": "execute_result"
    }
   ],
   "source": [
    "a.shape"
   ]
  },
  {
   "cell_type": "code",
   "execution_count": 39,
   "id": "111e7c12-e9da-4145-a00a-518447cd6931",
   "metadata": {},
   "outputs": [
    {
     "data": {
      "text/plain": [
       "1"
      ]
     },
     "execution_count": 39,
     "metadata": {},
     "output_type": "execute_result"
    }
   ],
   "source": [
    "a.ndim  # Anzahl Dimensionen (n = Anzahl)"
   ]
  },
  {
   "cell_type": "code",
   "execution_count": 25,
   "id": "bf18cb4b-e111-45b6-a31f-cd6aeba5d98c",
   "metadata": {},
   "outputs": [
    {
     "data": {
      "text/plain": [
       "dtype('int64')"
      ]
     },
     "execution_count": 25,
     "metadata": {},
     "output_type": "execute_result"
    }
   ],
   "source": [
    "a.dtype"
   ]
  },
  {
   "cell_type": "markdown",
   "id": "ddfd6184-4469-4227-bffb-60ba85fc1106",
   "metadata": {},
   "source": [
    "### Matrix\n",
    "\n",
    "= 2D-Array"
   ]
  },
  {
   "cell_type": "code",
   "execution_count": 29,
   "id": "8e24964c-5c81-44ee-b1d6-eb3db2b981c8",
   "metadata": {},
   "outputs": [],
   "source": [
    "c = np.array([[1, 2, 3], [4, 5, 6], [7, 8, 9]])"
   ]
  },
  {
   "cell_type": "code",
   "execution_count": 27,
   "id": "6788ad39-23ca-4435-b5f0-0766415e2245",
   "metadata": {},
   "outputs": [
    {
     "data": {
      "text/plain": [
       "array([[1, 2, 3],\n",
       "       [4, 5, 6],\n",
       "       [7, 8, 9]])"
      ]
     },
     "execution_count": 27,
     "metadata": {},
     "output_type": "execute_result"
    }
   ],
   "source": [
    "c"
   ]
  },
  {
   "cell_type": "code",
   "execution_count": 33,
   "id": "0741d304-73c5-47cc-a26c-b4ef2bc1ba2b",
   "metadata": {},
   "outputs": [
    {
     "data": {
      "text/plain": [
       "3"
      ]
     },
     "execution_count": 33,
     "metadata": {},
     "output_type": "execute_result"
    }
   ],
   "source": [
    "len(c)  # Anzahl Zeilen"
   ]
  },
  {
   "cell_type": "code",
   "execution_count": 32,
   "id": "89097af7-f83d-4698-a40c-5864822b71cb",
   "metadata": {},
   "outputs": [
    {
     "data": {
      "text/plain": [
       "9"
      ]
     },
     "execution_count": 32,
     "metadata": {},
     "output_type": "execute_result"
    }
   ],
   "source": [
    "c.size  # Anzahl Gesamtelemente"
   ]
  },
  {
   "cell_type": "code",
   "execution_count": 36,
   "id": "d86b0987-74a3-4218-a7b7-72510960ad6d",
   "metadata": {},
   "outputs": [
    {
     "data": {
      "text/plain": [
       "(3, 3)"
      ]
     },
     "execution_count": 36,
     "metadata": {},
     "output_type": "execute_result"
    }
   ],
   "source": [
    "c.shape  # Länge x Breite (3x3)"
   ]
  },
  {
   "cell_type": "code",
   "execution_count": 38,
   "id": "5c0f3661-cf5a-49ce-a802-45a7ed7d694e",
   "metadata": {},
   "outputs": [
    {
     "data": {
      "text/plain": [
       "2"
      ]
     },
     "execution_count": 38,
     "metadata": {},
     "output_type": "execute_result"
    }
   ],
   "source": [
    "c.ndim  # Anzahl Dimensionen"
   ]
  },
  {
   "cell_type": "code",
   "execution_count": 40,
   "id": "8faef92e-769f-4a88-9f89-24e051e41e67",
   "metadata": {},
   "outputs": [
    {
     "data": {
      "text/plain": [
       "dtype('int64')"
      ]
     },
     "execution_count": 40,
     "metadata": {},
     "output_type": "execute_result"
    }
   ],
   "source": [
    "c.dtype"
   ]
  },
  {
   "cell_type": "code",
   "execution_count": 44,
   "id": "64194896-db09-4793-90bb-6b2083a7803d",
   "metadata": {},
   "outputs": [
    {
     "data": {
      "text/plain": [
       "np.int64(45)"
      ]
     },
     "execution_count": 44,
     "metadata": {},
     "output_type": "execute_result"
    }
   ],
   "source": [
    "c.sum()"
   ]
  },
  {
   "cell_type": "code",
   "execution_count": 41,
   "id": "ccb0f8f8-fe29-4650-b967-dcd39e76256b",
   "metadata": {},
   "outputs": [
    {
     "data": {
      "text/plain": [
       "np.float64(5.0)"
      ]
     },
     "execution_count": 41,
     "metadata": {},
     "output_type": "execute_result"
    }
   ],
   "source": [
    "c.mean()"
   ]
  },
  {
   "cell_type": "code",
   "execution_count": 43,
   "id": "221ac95a-9554-452c-bb22-3890b920f85c",
   "metadata": {},
   "outputs": [
    {
     "data": {
      "text/plain": [
       "np.float64(2.581988897471611)"
      ]
     },
     "execution_count": 43,
     "metadata": {},
     "output_type": "execute_result"
    }
   ],
   "source": [
    "c.std()"
   ]
  },
  {
   "cell_type": "code",
   "execution_count": 45,
   "id": "f6a3617a-f57d-4a68-a67c-c099917bb860",
   "metadata": {},
   "outputs": [
    {
     "data": {
      "text/plain": [
       "np.float64(6.666666666666667)"
      ]
     },
     "execution_count": 45,
     "metadata": {},
     "output_type": "execute_result"
    }
   ],
   "source": [
    "c.var()"
   ]
  },
  {
   "cell_type": "code",
   "execution_count": 48,
   "id": "ea7e0a14-a677-4993-9751-fd61440cdc7c",
   "metadata": {},
   "outputs": [
    {
     "data": {
      "text/plain": [
       "array([4., 5., 6.])"
      ]
     },
     "execution_count": 48,
     "metadata": {},
     "output_type": "execute_result"
    }
   ],
   "source": [
    "c.mean(axis=0)  # Senkrecht"
   ]
  },
  {
   "cell_type": "code",
   "execution_count": 49,
   "id": "5711ffa9-4e90-4a21-9e08-5f958a47fc3d",
   "metadata": {},
   "outputs": [
    {
     "data": {
      "text/plain": [
       "array([2., 5., 8.])"
      ]
     },
     "execution_count": 49,
     "metadata": {},
     "output_type": "execute_result"
    }
   ],
   "source": [
    "c.mean(axis=1)  # Waagrecht"
   ]
  },
  {
   "cell_type": "code",
   "execution_count": 52,
   "id": "1fc88f01-7bab-4b87-8f2e-6fcf86882397",
   "metadata": {},
   "outputs": [
    {
     "data": {
      "text/plain": [
       "array([1, 2, 3, 4, 5, 6, 7, 8, 9])"
      ]
     },
     "execution_count": 52,
     "metadata": {},
     "output_type": "execute_result"
    }
   ],
   "source": [
    "np.arange(1, 10)  # Array mit Range 1 bis 9"
   ]
  },
  {
   "cell_type": "code",
   "execution_count": 53,
   "id": "5650dcf3-ca59-4535-89a3-ae2624e6408e",
   "metadata": {},
   "outputs": [
    {
     "data": {
      "text/plain": [
       "array([1, 2, 3, 4, 5, 6, 7, 8, 9])"
      ]
     },
     "execution_count": 53,
     "metadata": {},
     "output_type": "execute_result"
    }
   ],
   "source": [
    "np.array(range(1, 10))"
   ]
  },
  {
   "cell_type": "markdown",
   "id": "f9aceb4a-564b-4bfc-bf2b-4c89dd3af876",
   "metadata": {},
   "source": [
    "### Index bei Matrizen"
   ]
  },
  {
   "cell_type": "code",
   "execution_count": 57,
   "id": "ed7b6293-ebbb-42d1-9e14-45e89d842152",
   "metadata": {},
   "outputs": [
    {
     "data": {
      "text/plain": [
       "array([[1, 2, 3],\n",
       "       [4, 5, 6],\n",
       "       [7, 8, 9]])"
      ]
     },
     "execution_count": 57,
     "metadata": {},
     "output_type": "execute_result"
    }
   ],
   "source": [
    "c"
   ]
  },
  {
   "cell_type": "code",
   "execution_count": 54,
   "id": "03852c16-fb38-4e93-b973-89f1ed490ccb",
   "metadata": {},
   "outputs": [
    {
     "data": {
      "text/plain": [
       "array([4, 5, 6])"
      ]
     },
     "execution_count": 54,
     "metadata": {},
     "output_type": "execute_result"
    }
   ],
   "source": [
    "c[1]"
   ]
  },
  {
   "cell_type": "code",
   "execution_count": 59,
   "id": "bc099481-a617-4d7c-b625-c2fef045f9c2",
   "metadata": {},
   "outputs": [
    {
     "data": {
      "text/plain": [
       "np.int64(5)"
      ]
     },
     "execution_count": 59,
     "metadata": {},
     "output_type": "execute_result"
    }
   ],
   "source": [
    "c[1][1]"
   ]
  },
  {
   "cell_type": "code",
   "execution_count": 69,
   "id": "41ba371f-a293-40e2-a5c3-fc03b4f82dc0",
   "metadata": {},
   "outputs": [
    {
     "data": {
      "text/plain": [
       "np.int64(5)"
      ]
     },
     "execution_count": 69,
     "metadata": {},
     "output_type": "execute_result"
    }
   ],
   "source": [
    "c[1, 1]"
   ]
  },
  {
   "cell_type": "code",
   "execution_count": 68,
   "id": "3c6027ca-0795-41f7-869e-744e55da22ca",
   "metadata": {},
   "outputs": [
    {
     "data": {
      "text/plain": [
       "array([4, 7])"
      ]
     },
     "execution_count": 68,
     "metadata": {},
     "output_type": "execute_result"
    }
   ],
   "source": [
    "c[1:3, 0]  # Zeilen 1 & 2, Spalte 0"
   ]
  },
  {
   "cell_type": "code",
   "execution_count": 77,
   "id": "d70631a2-c457-4ecd-a775-9a637328b877",
   "metadata": {},
   "outputs": [
    {
     "data": {
      "text/plain": [
       "array([[5, 6],\n",
       "       [8, 9]])"
      ]
     },
     "execution_count": 77,
     "metadata": {},
     "output_type": "execute_result"
    }
   ],
   "source": [
    "c[1:3, 1:3]"
   ]
  },
  {
   "cell_type": "code",
   "execution_count": 78,
   "id": "87d5b6b5-b29f-46ca-b412-1c8af9dd7c83",
   "metadata": {},
   "outputs": [
    {
     "data": {
      "text/plain": [
       "array([[1, 2],\n",
       "       [4, 5],\n",
       "       [7, 8]])"
      ]
     },
     "execution_count": 78,
     "metadata": {},
     "output_type": "execute_result"
    }
   ],
   "source": [
    "c[0:3, 0:2]"
   ]
  },
  {
   "cell_type": "code",
   "execution_count": 84,
   "id": "67a57133-d1a6-44ea-852c-b967f6ee0181",
   "metadata": {},
   "outputs": [
    {
     "data": {
      "text/plain": [
       "array([[1, 2],\n",
       "       [4, 5],\n",
       "       [7, 8]])"
      ]
     },
     "execution_count": 84,
     "metadata": {},
     "output_type": "execute_result"
    }
   ],
   "source": [
    "# Vereinfachung\n",
    "c[:, :2]\n",
    "c[0:, :2]\n",
    "c[:3, :2]\n",
    "c[0:3, :2]\n",
    "c[0:3, 0:2]"
   ]
  },
  {
   "cell_type": "markdown",
   "id": "5f435a69-3fef-49c2-859b-724e4b74611c",
   "metadata": {},
   "source": [
    "### Vektorisierung\n",
    "\n",
    "Gesamtes Numpy Array mit einer Operation verändern"
   ]
  },
  {
   "cell_type": "code",
   "execution_count": 85,
   "id": "3e6c0de2-8760-44d3-8e5c-78d9cd76ed6a",
   "metadata": {},
   "outputs": [
    {
     "data": {
      "text/plain": [
       "array([[11, 12, 13],\n",
       "       [14, 15, 16],\n",
       "       [17, 18, 19]])"
      ]
     },
     "execution_count": 85,
     "metadata": {},
     "output_type": "execute_result"
    }
   ],
   "source": [
    "c + 10"
   ]
  },
  {
   "cell_type": "code",
   "execution_count": 86,
   "id": "2e7beac1-0af3-42ca-bf73-3b7cf03c4ce6",
   "metadata": {},
   "outputs": [
    {
     "data": {
      "text/plain": [
       "array([[ 1,  4,  9],\n",
       "       [16, 25, 36],\n",
       "       [49, 64, 81]])"
      ]
     },
     "execution_count": 86,
     "metadata": {},
     "output_type": "execute_result"
    }
   ],
   "source": [
    "c ** 2"
   ]
  },
  {
   "cell_type": "code",
   "execution_count": 87,
   "id": "60fa27dd-7bbc-454e-b799-143b5e607851",
   "metadata": {},
   "outputs": [
    {
     "data": {
      "text/plain": [
       "array([[0.5, 1. , 1.5],\n",
       "       [2. , 2.5, 3. ],\n",
       "       [3.5, 4. , 4.5]])"
      ]
     },
     "execution_count": 87,
     "metadata": {},
     "output_type": "execute_result"
    }
   ],
   "source": [
    "c / 2"
   ]
  },
  {
   "cell_type": "code",
   "execution_count": 88,
   "id": "88ad182b-5d97-496e-ba9e-fa2a1b5d1c11",
   "metadata": {},
   "outputs": [
    {
     "data": {
      "text/plain": [
       "array([2, 4, 6, 8])"
      ]
     },
     "execution_count": 88,
     "metadata": {},
     "output_type": "execute_result"
    }
   ],
   "source": [
    "a * 2"
   ]
  },
  {
   "cell_type": "code",
   "execution_count": 89,
   "id": "8ea4eeba-5d20-4cf9-a0e5-bc4d64dd82b1",
   "metadata": {},
   "outputs": [],
   "source": [
    "d = np.arange(10)\n",
    "e = np.arange(10)"
   ]
  },
  {
   "cell_type": "code",
   "execution_count": 94,
   "id": "211759b5-ee31-419d-9a21-35aab306f5e7",
   "metadata": {},
   "outputs": [
    {
     "data": {
      "text/plain": [
       "array([0, 1, 2, 3, 4, 5, 6, 7, 8, 9])"
      ]
     },
     "execution_count": 94,
     "metadata": {},
     "output_type": "execute_result"
    }
   ],
   "source": [
    "d"
   ]
  },
  {
   "cell_type": "code",
   "execution_count": 95,
   "id": "de622d5b-d343-48bf-a976-7515c0e6ca76",
   "metadata": {},
   "outputs": [
    {
     "data": {
      "text/plain": [
       "array([0, 1, 2, 3, 4, 5, 6, 7, 8, 9])"
      ]
     },
     "execution_count": 95,
     "metadata": {},
     "output_type": "execute_result"
    }
   ],
   "source": [
    "e"
   ]
  },
  {
   "cell_type": "code",
   "execution_count": 91,
   "id": "2c1dfec5-29b7-4168-b00a-cf3dd5f6cef8",
   "metadata": {},
   "outputs": [
    {
     "data": {
      "text/plain": [
       "array([ 0,  1,  4,  9, 16, 25, 36, 49, 64, 81])"
      ]
     },
     "execution_count": 91,
     "metadata": {},
     "output_type": "execute_result"
    }
   ],
   "source": [
    "d * e  # Vektorisierung mit 2 Arrays"
   ]
  },
  {
   "cell_type": "markdown",
   "id": "dbf99a94-eaae-4c48-bf24-c079815d8100",
   "metadata": {},
   "source": [
    "### Boolean Masken\n",
    "\n",
    "Vektorisierung mit Vergleichsoperatoren"
   ]
  },
  {
   "cell_type": "code",
   "execution_count": 96,
   "id": "1af5d99b-6f44-4e36-a6fb-23ec15fee26c",
   "metadata": {},
   "outputs": [],
   "source": [
    "f = np.arange(20)"
   ]
  },
  {
   "cell_type": "code",
   "execution_count": 97,
   "id": "ed084103-3b87-4a7a-87ae-aeac916835f3",
   "metadata": {},
   "outputs": [
    {
     "data": {
      "text/plain": [
       "array([ 0,  1,  2,  3,  4,  5,  6,  7,  8,  9, 10, 11, 12, 13, 14, 15, 16,\n",
       "       17, 18, 19])"
      ]
     },
     "execution_count": 97,
     "metadata": {},
     "output_type": "execute_result"
    }
   ],
   "source": [
    "f"
   ]
  },
  {
   "cell_type": "code",
   "execution_count": 100,
   "id": "2bd3e3f1-5622-4186-a80c-929b7faa2a19",
   "metadata": {},
   "outputs": [
    {
     "data": {
      "text/plain": [
       "array([False, False, False, False, False, False, False, False, False,\n",
       "       False, False,  True,  True,  True,  True,  True,  True,  True,\n",
       "        True,  True])"
      ]
     },
     "execution_count": 100,
     "metadata": {},
     "output_type": "execute_result"
    }
   ],
   "source": [
    "f > 10  # Neues Array mit Booleans, wo die Bedingung im Ausgangsarray True/False ist"
   ]
  },
  {
   "cell_type": "code",
   "execution_count": 101,
   "id": "7b73c0fe-ed2d-4607-b7e2-0b4cdb7174af",
   "metadata": {},
   "outputs": [],
   "source": [
    "g = f > 10"
   ]
  },
  {
   "cell_type": "code",
   "execution_count": 104,
   "id": "01cbac76-df2e-47e8-86c0-b0cefb32830b",
   "metadata": {},
   "outputs": [
    {
     "data": {
      "text/plain": [
       "array([11, 12, 13, 14, 15, 16, 17, 18, 19])"
      ]
     },
     "execution_count": 104,
     "metadata": {},
     "output_type": "execute_result"
    }
   ],
   "source": [
    "f[g]  # Filterung mit Boolean Masken"
   ]
  },
  {
   "cell_type": "code",
   "execution_count": 106,
   "id": "3eb89ab5-4e22-4d92-a2d6-436db98a94f3",
   "metadata": {},
   "outputs": [
    {
     "data": {
      "text/plain": [
       "array([11, 12, 13, 14, 15, 16, 17, 18, 19])"
      ]
     },
     "execution_count": 106,
     "metadata": {},
     "output_type": "execute_result"
    }
   ],
   "source": [
    "f[f > 10]  # Bedingung direkt in die Klammer setzen"
   ]
  },
  {
   "cell_type": "markdown",
   "id": "08816638-2257-4bf3-b3d1-a65b3f66bc90",
   "metadata": {},
   "source": [
    "### Performance"
   ]
  },
  {
   "cell_type": "code",
   "execution_count": 107,
   "id": "1ae262ba-6ea7-4615-86c7-3d71053be260",
   "metadata": {},
   "outputs": [],
   "source": [
    "import time\n",
    "def measureTime(function):\n",
    "    start = time.time()\n",
    "    function()\n",
    "    end = time.time()\n",
    "    print(end - start)"
   ]
  },
  {
   "cell_type": "code",
   "execution_count": 112,
   "id": "d271f510-5870-474d-8a84-0ba9913b1c22",
   "metadata": {},
   "outputs": [],
   "source": [
    "def pythonList():\n",
    "    x = list(range(100_000_000))"
   ]
  },
  {
   "cell_type": "code",
   "execution_count": 113,
   "id": "6f0b852d-a2e6-4074-a74d-ef88b3d02f7c",
   "metadata": {},
   "outputs": [],
   "source": [
    "def numpyArray():\n",
    "    x = np.arange(100_000_000)"
   ]
  },
  {
   "cell_type": "code",
   "execution_count": 115,
   "id": "17bdc402-2768-4281-9c6d-3019cd6fd78b",
   "metadata": {},
   "outputs": [
    {
     "name": "stdout",
     "output_type": "stream",
     "text": [
      "1.4190032482147217\n",
      "0.13026928901672363\n"
     ]
    }
   ],
   "source": [
    "measureTime(pythonList)\n",
    "measureTime(numpyArray)"
   ]
  },
  {
   "cell_type": "markdown",
   "id": "e79f2587-69ac-4523-bb6e-9fc5902521a8",
   "metadata": {},
   "source": [
    "### Weitere Funktionen"
   ]
  },
  {
   "cell_type": "markdown",
   "id": "7f6c2c7e-a0af-490c-ba06-be76e3c78998",
   "metadata": {},
   "source": [
    "#### random"
   ]
  },
  {
   "cell_type": "code",
   "execution_count": null,
   "id": "21e21a99-7030-4001-80ce-ad170a334d0f",
   "metadata": {},
   "outputs": [],
   "source": []
  },
  {
   "cell_type": "code",
   "execution_count": 119,
   "id": "8ce01975-b1f9-40ea-be9f-bf02a02fa445",
   "metadata": {},
   "outputs": [
    {
     "data": {
      "text/plain": [
       "array([[0.38248075, 0.84594211, 0.90543986, 0.31637283, 0.30386781],\n",
       "       [0.66509662, 0.05082551, 0.20733002, 0.44999278, 0.77838832],\n",
       "       [0.36734041, 0.46495229, 0.99406424, 0.9312595 , 0.1207058 ],\n",
       "       [0.31745527, 0.87000154, 0.00234838, 0.30498848, 0.30426943],\n",
       "       [0.44809751, 0.84966406, 0.97749421, 0.5064567 , 0.1003969 ]])"
      ]
     },
     "execution_count": 119,
     "metadata": {},
     "output_type": "execute_result"
    }
   ],
   "source": [
    "np.random.random(size=(5, 5))  # random: Kommazahl zw. 0 und 1"
   ]
  },
  {
   "cell_type": "code",
   "execution_count": 130,
   "id": "93bc8066-be80-4a23-ba61-f429e1aa1d83",
   "metadata": {},
   "outputs": [
    {
     "data": {
      "text/plain": [
       "5"
      ]
     },
     "execution_count": 130,
     "metadata": {},
     "output_type": "execute_result"
    }
   ],
   "source": [
    "np.random.randint(10)"
   ]
  },
  {
   "cell_type": "code",
   "execution_count": 131,
   "id": "e550242e-3cb8-4a37-9828-d4660a71dc62",
   "metadata": {},
   "outputs": [
    {
     "data": {
      "text/plain": [
       "array([[3, 5, 8, 4, 1],\n",
       "       [2, 5, 0, 3, 6],\n",
       "       [4, 5, 1, 9, 3],\n",
       "       [7, 3, 0, 2, 3],\n",
       "       [7, 7, 3, 6, 7]], dtype=int32)"
      ]
     },
     "execution_count": 131,
     "metadata": {},
     "output_type": "execute_result"
    }
   ],
   "source": [
    "np.random.randint(10, size=(5, 5))"
   ]
  },
  {
   "cell_type": "markdown",
   "id": "341c9eb3-4322-4cde-9845-a63061a1b7e3",
   "metadata": {},
   "source": [
    "#### reshape\n",
    "\n",
    "Form eines Arrays verändern (1D -> 2D, 2D -> 1D)"
   ]
  },
  {
   "cell_type": "code",
   "execution_count": 133,
   "id": "9625f4d9-40e7-4ae7-bb1c-954d564b4f2e",
   "metadata": {},
   "outputs": [],
   "source": [
    "h = np.arange(9)"
   ]
  },
  {
   "cell_type": "code",
   "execution_count": 134,
   "id": "3ee035c2-3af3-48ac-af17-b709fa39d09f",
   "metadata": {},
   "outputs": [
    {
     "data": {
      "text/plain": [
       "array([0, 1, 2, 3, 4, 5, 6, 7, 8])"
      ]
     },
     "execution_count": 134,
     "metadata": {},
     "output_type": "execute_result"
    }
   ],
   "source": [
    "h"
   ]
  },
  {
   "cell_type": "code",
   "execution_count": 135,
   "id": "9fce77c4-4fde-4046-8504-c8d37700e947",
   "metadata": {},
   "outputs": [
    {
     "data": {
      "text/plain": [
       "array([[0, 1, 2],\n",
       "       [3, 4, 5],\n",
       "       [6, 7, 8]])"
      ]
     },
     "execution_count": 135,
     "metadata": {},
     "output_type": "execute_result"
    }
   ],
   "source": [
    "h.reshape(3, 3)"
   ]
  },
  {
   "cell_type": "code",
   "execution_count": 136,
   "id": "051b80e6-7452-4269-aafc-bebaf106a2b2",
   "metadata": {},
   "outputs": [],
   "source": [
    "i = np.arange(8)"
   ]
  },
  {
   "cell_type": "code",
   "execution_count": 137,
   "id": "d2a649b5-4496-4479-a717-5f054107f18d",
   "metadata": {},
   "outputs": [
    {
     "data": {
      "text/plain": [
       "array([0, 1, 2, 3, 4, 5, 6, 7])"
      ]
     },
     "execution_count": 137,
     "metadata": {},
     "output_type": "execute_result"
    }
   ],
   "source": [
    "i"
   ]
  },
  {
   "cell_type": "code",
   "execution_count": 138,
   "id": "9cce9aaa-a0b9-434d-988d-cf4734d35cfe",
   "metadata": {},
   "outputs": [
    {
     "data": {
      "text/plain": [
       "array([[[0, 1],\n",
       "        [2, 3]],\n",
       "\n",
       "       [[4, 5],\n",
       "        [6, 7]]])"
      ]
     },
     "execution_count": 138,
     "metadata": {},
     "output_type": "execute_result"
    }
   ],
   "source": [
    "i.reshape(2, 2, 2)"
   ]
  },
  {
   "cell_type": "code",
   "execution_count": 139,
   "id": "9e03da6d-de24-49e9-b046-d66d7354086f",
   "metadata": {},
   "outputs": [],
   "source": [
    "j = i.reshape(2, 2, 2)"
   ]
  },
  {
   "cell_type": "code",
   "execution_count": 142,
   "id": "db1523de-3a72-420b-8f66-8d016a96ea38",
   "metadata": {},
   "outputs": [
    {
     "data": {
      "text/plain": [
       "array([0, 1, 2, 3, 4, 5, 6, 7])"
      ]
     },
     "execution_count": 142,
     "metadata": {},
     "output_type": "execute_result"
    }
   ],
   "source": [
    "j.reshape(-1)  # -1: Form eindimensional machen"
   ]
  },
  {
   "cell_type": "code",
   "execution_count": 144,
   "id": "8ff7d80e-19b2-477c-8dae-eb6d620c5be0",
   "metadata": {},
   "outputs": [],
   "source": [
    "k = h.reshape(3, 3)"
   ]
  },
  {
   "cell_type": "code",
   "execution_count": 145,
   "id": "f0293508-ca5e-4241-9bea-3c18a6b23739",
   "metadata": {},
   "outputs": [
    {
     "data": {
      "text/plain": [
       "array([[0, 1, 2],\n",
       "       [3, 4, 5],\n",
       "       [6, 7, 8]])"
      ]
     },
     "execution_count": 145,
     "metadata": {},
     "output_type": "execute_result"
    }
   ],
   "source": [
    "k"
   ]
  },
  {
   "cell_type": "code",
   "execution_count": 146,
   "id": "97ae96d4-2f4a-4eb1-9945-4433b3c0a92a",
   "metadata": {},
   "outputs": [
    {
     "data": {
      "text/plain": [
       "array([0, 1, 2, 3, 4, 5, 6, 7, 8])"
      ]
     },
     "execution_count": 146,
     "metadata": {},
     "output_type": "execute_result"
    }
   ],
   "source": [
    "k.reshape(-1)"
   ]
  },
  {
   "cell_type": "code",
   "execution_count": 147,
   "id": "c5d1e6fb-3c67-45e7-bf4e-e30c4518f837",
   "metadata": {},
   "outputs": [
    {
     "data": {
      "text/plain": [
       "array([0, 1, 2, 3, 4, 5, 6, 7, 8])"
      ]
     },
     "execution_count": 147,
     "metadata": {},
     "output_type": "execute_result"
    }
   ],
   "source": [
    "h"
   ]
  },
  {
   "cell_type": "code",
   "execution_count": 157,
   "id": "6d05c57d-8da6-4c09-8b70-fa7764606df1",
   "metadata": {},
   "outputs": [
    {
     "data": {
      "text/plain": [
       "array([[0],\n",
       "       [1],\n",
       "       [2],\n",
       "       [3],\n",
       "       [4],\n",
       "       [5],\n",
       "       [6],\n",
       "       [7],\n",
       "       [8]])"
      ]
     },
     "execution_count": 157,
     "metadata": {},
     "output_type": "execute_result"
    }
   ],
   "source": [
    "h.reshape(9, 1)  # 9 Zeilen, 1 Spalte"
   ]
  },
  {
   "cell_type": "code",
   "execution_count": 158,
   "id": "85c32f57-1985-497b-923b-e4e38b6284f2",
   "metadata": {},
   "outputs": [
    {
     "data": {
      "text/plain": [
       "array([[0],\n",
       "       [1],\n",
       "       [2],\n",
       "       [3],\n",
       "       [4],\n",
       "       [5],\n",
       "       [6],\n",
       "       [7],\n",
       "       [8]])"
      ]
     },
     "execution_count": 158,
     "metadata": {},
     "output_type": "execute_result"
    }
   ],
   "source": [
    "h.reshape(-1, 1)  # -1: Platzhalter für Länge"
   ]
  },
  {
   "cell_type": "markdown",
   "id": "69f13acd-3847-4b84-8a0b-4f040726d7a2",
   "metadata": {},
   "source": [
    "#### linspace\n",
    "\n",
    "Linear Space\n",
    "\n",
    "Generiert ein Array von X bis Y, mit Z Elementen (mit gleichem Abstand zw. den Elementen)"
   ]
  },
  {
   "cell_type": "code",
   "execution_count": 165,
   "id": "26bd78b2-46f7-4004-be77-05310fd614c3",
   "metadata": {},
   "outputs": [
    {
     "data": {
      "text/plain": [
       "array([ 0. ,  2.5,  5. ,  7.5, 10. ])"
      ]
     },
     "execution_count": 165,
     "metadata": {},
     "output_type": "execute_result"
    }
   ],
   "source": [
    "np.linspace(0, 10, 5)"
   ]
  },
  {
   "cell_type": "code",
   "execution_count": 166,
   "id": "0fc3fff8-a81e-4b2d-bf93-cc9e9d1f5ec5",
   "metadata": {},
   "outputs": [
    {
     "data": {
      "text/plain": [
       "array([ 0.        ,  0.20408163,  0.40816327,  0.6122449 ,  0.81632653,\n",
       "        1.02040816,  1.2244898 ,  1.42857143,  1.63265306,  1.83673469,\n",
       "        2.04081633,  2.24489796,  2.44897959,  2.65306122,  2.85714286,\n",
       "        3.06122449,  3.26530612,  3.46938776,  3.67346939,  3.87755102,\n",
       "        4.08163265,  4.28571429,  4.48979592,  4.69387755,  4.89795918,\n",
       "        5.10204082,  5.30612245,  5.51020408,  5.71428571,  5.91836735,\n",
       "        6.12244898,  6.32653061,  6.53061224,  6.73469388,  6.93877551,\n",
       "        7.14285714,  7.34693878,  7.55102041,  7.75510204,  7.95918367,\n",
       "        8.16326531,  8.36734694,  8.57142857,  8.7755102 ,  8.97959184,\n",
       "        9.18367347,  9.3877551 ,  9.59183673,  9.79591837, 10.        ])"
      ]
     },
     "execution_count": 166,
     "metadata": {},
     "output_type": "execute_result"
    }
   ],
   "source": [
    "np.linspace(0, 10, 50)"
   ]
  },
  {
   "cell_type": "markdown",
   "id": "02a681f2-6e15-42f4-b190-b8623a7050d0",
   "metadata": {},
   "source": [
    "#### zeros, ones"
   ]
  },
  {
   "cell_type": "code",
   "execution_count": 167,
   "id": "3294d99c-047e-4218-9075-26d5fe5f3b25",
   "metadata": {},
   "outputs": [
    {
     "data": {
      "text/plain": [
       "array([0., 0., 0., 0., 0., 0., 0., 0., 0., 0.])"
      ]
     },
     "execution_count": 167,
     "metadata": {},
     "output_type": "execute_result"
    }
   ],
   "source": [
    "np.zeros(10)"
   ]
  },
  {
   "cell_type": "code",
   "execution_count": 168,
   "id": "27d36176-b305-4b68-ab32-50d9891edf2d",
   "metadata": {},
   "outputs": [
    {
     "data": {
      "text/plain": [
       "array([1., 1., 1., 1., 1.])"
      ]
     },
     "execution_count": 168,
     "metadata": {},
     "output_type": "execute_result"
    }
   ],
   "source": [
    "np.ones(5)"
   ]
  },
  {
   "cell_type": "markdown",
   "id": "bb0cacab-6097-4a57-bac0-c3f0d7cc914e",
   "metadata": {},
   "source": [
    "#### hstack, vstack\n",
    "\n",
    "horizontal stack\n",
    "\n",
    "vertical stack"
   ]
  },
  {
   "cell_type": "code",
   "execution_count": 171,
   "id": "3a6a4f2f-59ed-400b-9c92-78f20ca2f79e",
   "metadata": {},
   "outputs": [],
   "source": [
    "l = np.arange(30).reshape(6, 5)"
   ]
  },
  {
   "cell_type": "code",
   "execution_count": 172,
   "id": "d42130ad-2fa4-455a-8a91-cba5a8aae026",
   "metadata": {},
   "outputs": [
    {
     "data": {
      "text/plain": [
       "array([[ 0,  1,  2,  3,  4],\n",
       "       [ 5,  6,  7,  8,  9],\n",
       "       [10, 11, 12, 13, 14],\n",
       "       [15, 16, 17, 18, 19],\n",
       "       [20, 21, 22, 23, 24],\n",
       "       [25, 26, 27, 28, 29]])"
      ]
     },
     "execution_count": 172,
     "metadata": {},
     "output_type": "execute_result"
    }
   ],
   "source": [
    "l"
   ]
  },
  {
   "cell_type": "code",
   "execution_count": 174,
   "id": "f4c7ff5a-221d-41ef-890b-cb58aab6476a",
   "metadata": {},
   "outputs": [
    {
     "data": {
      "text/plain": [
       "array([75, 81, 87, 93, 99])"
      ]
     },
     "execution_count": 174,
     "metadata": {},
     "output_type": "execute_result"
    }
   ],
   "source": [
    "# Aufgabe: Summenzeile erzeugen (Summe aller Spalte)\n",
    "l.sum(axis=0)"
   ]
  },
  {
   "cell_type": "code",
   "execution_count": 175,
   "id": "ff627b2d-d222-4da6-927b-7b7ff7539dbe",
   "metadata": {},
   "outputs": [],
   "source": [
    "s = l.sum(axis=0)"
   ]
  },
  {
   "cell_type": "code",
   "execution_count": 178,
   "id": "f4a365fe-3aa8-409a-9d18-c246323deb6e",
   "metadata": {},
   "outputs": [
    {
     "data": {
      "text/plain": [
       "array([[ 0,  1,  2,  3,  4],\n",
       "       [ 5,  6,  7,  8,  9],\n",
       "       [10, 11, 12, 13, 14],\n",
       "       [15, 16, 17, 18, 19],\n",
       "       [20, 21, 22, 23, 24],\n",
       "       [25, 26, 27, 28, 29],\n",
       "       [75, 81, 87, 93, 99]])"
      ]
     },
     "execution_count": 178,
     "metadata": {},
     "output_type": "execute_result"
    }
   ],
   "source": [
    "np.vstack([l, s])  # WICHTIG: Bei hstack/vstack MÜSSEN die Inhalte in Klammern gesetzt werden"
   ]
  },
  {
   "cell_type": "code",
   "execution_count": 180,
   "id": "d1c79a61-ef3d-40aa-abb1-54aa6a4bf5fd",
   "metadata": {},
   "outputs": [],
   "source": [
    "m = np.vstack([l, s])"
   ]
  },
  {
   "cell_type": "code",
   "execution_count": 181,
   "id": "629d7e0a-5416-45d3-8725-01d51115c654",
   "metadata": {},
   "outputs": [
    {
     "data": {
      "text/plain": [
       "array([[ 0,  1,  2,  3,  4],\n",
       "       [ 5,  6,  7,  8,  9],\n",
       "       [10, 11, 12, 13, 14],\n",
       "       [15, 16, 17, 18, 19],\n",
       "       [20, 21, 22, 23, 24],\n",
       "       [25, 26, 27, 28, 29],\n",
       "       [75, 81, 87, 93, 99]])"
      ]
     },
     "execution_count": 181,
     "metadata": {},
     "output_type": "execute_result"
    }
   ],
   "source": [
    "m"
   ]
  },
  {
   "cell_type": "code",
   "execution_count": 182,
   "id": "b1e6510d-8cef-4d27-a512-e6d69865f2ca",
   "metadata": {},
   "outputs": [
    {
     "data": {
      "text/plain": [
       "array([ 10,  35,  60,  85, 110, 135, 435])"
      ]
     },
     "execution_count": 182,
     "metadata": {},
     "output_type": "execute_result"
    }
   ],
   "source": [
    "# Aufgabe: Summenspalte erzeugen (Summe aller Zeilen)\n",
    "m.sum(axis=1)"
   ]
  },
  {
   "cell_type": "code",
   "execution_count": 183,
   "id": "5277158c-04fc-4ef4-a77f-e28966dbfe89",
   "metadata": {},
   "outputs": [],
   "source": [
    "t = m.sum(axis=1)"
   ]
  },
  {
   "cell_type": "code",
   "execution_count": 186,
   "id": "367c44ab-d975-41b8-984c-4662f5a58f97",
   "metadata": {},
   "outputs": [
    {
     "data": {
      "text/plain": [
       "array([[  0,   1,   2,   3,   4,  10],\n",
       "       [  5,   6,   7,   8,   9,  35],\n",
       "       [ 10,  11,  12,  13,  14,  60],\n",
       "       [ 15,  16,  17,  18,  19,  85],\n",
       "       [ 20,  21,  22,  23,  24, 110],\n",
       "       [ 25,  26,  27,  28,  29, 135],\n",
       "       [ 75,  81,  87,  93,  99, 435]])"
      ]
     },
     "execution_count": 186,
     "metadata": {},
     "output_type": "execute_result"
    }
   ],
   "source": [
    "np.hstack([m, t.reshape(-1, 1)])  # t hat nur eine Dimension, m hat 2 Dimensionen -> reshape"
   ]
  }
 ],
 "metadata": {
  "kernelspec": {
   "display_name": "Python 3 (ipykernel)",
   "language": "python",
   "name": "python3"
  },
  "language_info": {
   "codemirror_mode": {
    "name": "ipython",
    "version": 3
   },
   "file_extension": ".py",
   "mimetype": "text/x-python",
   "name": "python",
   "nbconvert_exporter": "python",
   "pygments_lexer": "ipython3",
   "version": "3.13.1"
  }
 },
 "nbformat": 4,
 "nbformat_minor": 5
}
