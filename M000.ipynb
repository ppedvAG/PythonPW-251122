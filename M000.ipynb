{
 "cells": [
  {
   "cell_type": "markdown",
   "id": "f72b1966-b937-4bc9-9c29-2e6435acf76b",
   "metadata": {},
   "source": [
    "## Bot"
   ]
  },
  {
   "cell_type": "code",
   "execution_count": 1,
   "id": "0356035b-861a-4c0a-b381-784ec85bdf09",
   "metadata": {},
   "outputs": [],
   "source": [
    "import requests\n",
    "import pandas as pd\n",
    "import numpy as np\n",
    "import matplotlib.pyplot as plt\n",
    "\n",
    "x = requests.get(\"https://api-testnet.bybit.com/v5/market/kline?category=inverse&symbol=BTCUSD&interval=60&start=1670601600000&end=1670608800000%20HTTP/1.1\")"
   ]
  },
  {
   "cell_type": "code",
   "execution_count": 2,
   "id": "ec144dfb-6cb6-49ac-ad6e-456a04fc6c91",
   "metadata": {},
   "outputs": [],
   "source": [
    "data = pd.DataFrame(x.json()[\"result\"][\"list\"])"
   ]
  },
  {
   "cell_type": "code",
   "execution_count": 3,
   "id": "cdd94201-cf36-41e8-9df3-80d42ada28a9",
   "metadata": {},
   "outputs": [
    {
     "data": {
      "text/html": [
       "<div>\n",
       "<style scoped>\n",
       "    .dataframe tbody tr th:only-of-type {\n",
       "        vertical-align: middle;\n",
       "    }\n",
       "\n",
       "    .dataframe tbody tr th {\n",
       "        vertical-align: top;\n",
       "    }\n",
       "\n",
       "    .dataframe thead th {\n",
       "        text-align: right;\n",
       "    }\n",
       "</style>\n",
       "<table border=\"1\" class=\"dataframe\">\n",
       "  <thead>\n",
       "    <tr style=\"text-align: right;\">\n",
       "      <th></th>\n",
       "      <th>0</th>\n",
       "      <th>1</th>\n",
       "      <th>2</th>\n",
       "      <th>3</th>\n",
       "      <th>4</th>\n",
       "      <th>5</th>\n",
       "      <th>6</th>\n",
       "    </tr>\n",
       "  </thead>\n",
       "  <tbody>\n",
       "    <tr>\n",
       "      <th>0</th>\n",
       "      <td>1671318000000</td>\n",
       "      <td>16633.5</td>\n",
       "      <td>16633.5</td>\n",
       "      <td>16550</td>\n",
       "      <td>16633.5</td>\n",
       "      <td>6412</td>\n",
       "      <td>0.38564765</td>\n",
       "    </tr>\n",
       "    <tr>\n",
       "      <th>1</th>\n",
       "      <td>1671314400000</td>\n",
       "      <td>16629.5</td>\n",
       "      <td>16633.5</td>\n",
       "      <td>16543.5</td>\n",
       "      <td>16633.5</td>\n",
       "      <td>271641</td>\n",
       "      <td>16.37512636</td>\n",
       "    </tr>\n",
       "    <tr>\n",
       "      <th>2</th>\n",
       "      <td>1671310800000</td>\n",
       "      <td>16613.5</td>\n",
       "      <td>16697.5</td>\n",
       "      <td>16530</td>\n",
       "      <td>16629.5</td>\n",
       "      <td>44841</td>\n",
       "      <td>2.70233986</td>\n",
       "    </tr>\n",
       "    <tr>\n",
       "      <th>3</th>\n",
       "      <td>1671307200000</td>\n",
       "      <td>16604.5</td>\n",
       "      <td>16688</td>\n",
       "      <td>16487.5</td>\n",
       "      <td>16613.5</td>\n",
       "      <td>1009465</td>\n",
       "      <td>60.83110421</td>\n",
       "    </tr>\n",
       "    <tr>\n",
       "      <th>4</th>\n",
       "      <td>1671303600000</td>\n",
       "      <td>16591</td>\n",
       "      <td>16618</td>\n",
       "      <td>16527.5</td>\n",
       "      <td>16604.5</td>\n",
       "      <td>7229</td>\n",
       "      <td>0.43537039</td>\n",
       "    </tr>\n",
       "    <tr>\n",
       "      <th>...</th>\n",
       "      <td>...</td>\n",
       "      <td>...</td>\n",
       "      <td>...</td>\n",
       "      <td>...</td>\n",
       "      <td>...</td>\n",
       "      <td>...</td>\n",
       "      <td>...</td>\n",
       "    </tr>\n",
       "    <tr>\n",
       "      <th>195</th>\n",
       "      <td>1670616000000</td>\n",
       "      <td>17052</td>\n",
       "      <td>17053</td>\n",
       "      <td>16993</td>\n",
       "      <td>17011.5</td>\n",
       "      <td>368151</td>\n",
       "      <td>21.62320651</td>\n",
       "    </tr>\n",
       "    <tr>\n",
       "      <th>196</th>\n",
       "      <td>1670612400000</td>\n",
       "      <td>17055.5</td>\n",
       "      <td>17055.5</td>\n",
       "      <td>17027</td>\n",
       "      <td>17052</td>\n",
       "      <td>4089</td>\n",
       "      <td>0.23985328</td>\n",
       "    </tr>\n",
       "    <tr>\n",
       "      <th>197</th>\n",
       "      <td>1670608800000</td>\n",
       "      <td>17071</td>\n",
       "      <td>17073</td>\n",
       "      <td>17027</td>\n",
       "      <td>17055.5</td>\n",
       "      <td>268611</td>\n",
       "      <td>15.74462667</td>\n",
       "    </tr>\n",
       "    <tr>\n",
       "      <th>198</th>\n",
       "      <td>1670605200000</td>\n",
       "      <td>17071.5</td>\n",
       "      <td>17071.5</td>\n",
       "      <td>17061</td>\n",
       "      <td>17071</td>\n",
       "      <td>4177</td>\n",
       "      <td>0.24469757</td>\n",
       "    </tr>\n",
       "    <tr>\n",
       "      <th>199</th>\n",
       "      <td>1670601600000</td>\n",
       "      <td>17086.5</td>\n",
       "      <td>17088</td>\n",
       "      <td>16978</td>\n",
       "      <td>17071.5</td>\n",
       "      <td>6356</td>\n",
       "      <td>0.37288112</td>\n",
       "    </tr>\n",
       "  </tbody>\n",
       "</table>\n",
       "<p>200 rows × 7 columns</p>\n",
       "</div>"
      ],
      "text/plain": [
       "                 0        1        2        3        4        5            6\n",
       "0    1671318000000  16633.5  16633.5    16550  16633.5     6412   0.38564765\n",
       "1    1671314400000  16629.5  16633.5  16543.5  16633.5   271641  16.37512636\n",
       "2    1671310800000  16613.5  16697.5    16530  16629.5    44841   2.70233986\n",
       "3    1671307200000  16604.5    16688  16487.5  16613.5  1009465  60.83110421\n",
       "4    1671303600000    16591    16618  16527.5  16604.5     7229   0.43537039\n",
       "..             ...      ...      ...      ...      ...      ...          ...\n",
       "195  1670616000000    17052    17053    16993  17011.5   368151  21.62320651\n",
       "196  1670612400000  17055.5  17055.5    17027    17052     4089   0.23985328\n",
       "197  1670608800000    17071    17073    17027  17055.5   268611  15.74462667\n",
       "198  1670605200000  17071.5  17071.5    17061    17071     4177   0.24469757\n",
       "199  1670601600000  17086.5    17088    16978  17071.5     6356   0.37288112\n",
       "\n",
       "[200 rows x 7 columns]"
      ]
     },
     "execution_count": 3,
     "metadata": {},
     "output_type": "execute_result"
    }
   ],
   "source": [
    "data"
   ]
  },
  {
   "cell_type": "code",
   "execution_count": 4,
   "id": "6e8da6ff-eccd-48e4-b63a-62811ead305d",
   "metadata": {},
   "outputs": [
    {
     "name": "stdout",
     "output_type": "stream",
     "text": [
      "<class 'pandas.core.frame.DataFrame'>\n",
      "RangeIndex: 200 entries, 0 to 199\n",
      "Data columns (total 7 columns):\n",
      " #   Column  Non-Null Count  Dtype \n",
      "---  ------  --------------  ----- \n",
      " 0   0       200 non-null    object\n",
      " 1   1       200 non-null    object\n",
      " 2   2       200 non-null    object\n",
      " 3   3       200 non-null    object\n",
      " 4   4       200 non-null    object\n",
      " 5   5       200 non-null    object\n",
      " 6   6       200 non-null    object\n",
      "dtypes: object(7)\n",
      "memory usage: 11.1+ KB\n"
     ]
    }
   ],
   "source": [
    "data.info()"
   ]
  },
  {
   "cell_type": "code",
   "execution_count": 5,
   "id": "90f53f06-c872-48b6-bd54-ba6c831a1b50",
   "metadata": {},
   "outputs": [],
   "source": [
    "data.rename(columns={0:\"Time\", 1: \"Open\", 2: \"High\", 3: \"Low\", 4: \"Close\", 5: \"Volume\", 6: \"Turnover\"}, inplace=True)"
   ]
  },
  {
   "cell_type": "code",
   "execution_count": 6,
   "id": "86812a84-f08b-4651-9be7-52950b83914d",
   "metadata": {},
   "outputs": [],
   "source": [
    "def fixType(columnName, newType):\n",
    "    data[columnName] = data[columnName].astype(newType)"
   ]
  },
  {
   "cell_type": "code",
   "execution_count": 9,
   "id": "a52bfb43-3a92-4df5-99a9-15cdfdd30687",
   "metadata": {},
   "outputs": [],
   "source": [
    "fixType(\"Time\", np.int64)"
   ]
  },
  {
   "cell_type": "code",
   "execution_count": 10,
   "id": "d8c1ee15-9e71-4b9a-a7f9-d44fd2d8beb2",
   "metadata": {},
   "outputs": [],
   "source": [
    "for col in data.columns[1:]:\n",
    "    fixType(col, np.float64)"
   ]
  },
  {
   "cell_type": "code",
   "execution_count": 12,
   "id": "3d07efec-4b0f-40bc-ba82-4cb35d9c41bf",
   "metadata": {},
   "outputs": [
    {
     "data": {
      "text/plain": [
       "<Axes: >"
      ]
     },
     "execution_count": 12,
     "metadata": {},
     "output_type": "execute_result"
    },
    {
     "data": {
      "image/png": "[encoded data removed]",
      "text/plain": [
       "<Figure size 640x480 with 1 Axes>"
      ]
     },
     "metadata": {},
     "output_type": "display_data"
    }
   ],
   "source": [
    "data.loc[:, \"Open\":\"Close\"].plot()"
   ]
  },
  {
   "cell_type": "markdown",
   "id": "5d420d7a-f65c-4995-8f3a-103b261a6100",
   "metadata": {},
   "source": [
    "import requests\n",
    "\n",
    "url = \"https://api-testnet.bybit.com/v5/market/kline?category=inverse&symbol=BTCUSD&interval=60&start=1670601600000&end=1670608800000%20HTTP/1.1\"\n",
    "x = requests.get(url)\n",
    "\n",
    "class Candle:\n",
    "\tdef __init__(self, time, open, high, low, close, volume, turnover):\n",
    "\t\tself.time = int(time)\n",
    "\t\tself.open = float(open)\n",
    "\t\tself.high = float(high)\n",
    "\t\tself.low = float(low)\n",
    "\t\tself.close = float(close)\n",
    "\t\tself.volume = float(volume)\n",
    "\t\tself.turnover = float(turnover)\n",
    "\n",
    "candles = list()  # Alternative: []\n",
    "for candle in x.json()[\"result\"][\"list\"]:\n",
    "\tc = Candle(candle[0], candle[1], candle[2], candle[3], candle[4], candle[5], candle[6])\n",
    "\tcandles.append(c)"
   ]
  }
 ],
 "metadata": {
  "kernelspec": {
   "display_name": "Python 3 (ipykernel)",
   "language": "python",
   "name": "python3"
  },
  "language_info": {
   "codemirror_mode": {
    "name": "ipython",
    "version": 3
   },
   "file_extension": ".py",
   "mimetype": "text/x-python",
   "name": "python",
   "nbconvert_exporter": "python",
   "pygments_lexer": "ipython3",
   "version": "3.13.1"
  }
 },
 "nbformat": 4,
 "nbformat_minor": 5
}
